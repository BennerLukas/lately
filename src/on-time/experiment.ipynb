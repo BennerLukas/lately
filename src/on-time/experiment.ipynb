{
 "cells": [
  {
   "cell_type": "markdown",
   "metadata": {
    "collapsed": true,
    "pycharm": {
     "name": "#%% md\n"
    }
   },
   "source": [
    "# Experiment for on-time simulation\n",
    "\n",
    "Based on ray rllib and gym"
   ]
  },
  {
   "cell_type": "code",
   "execution_count": 1,
   "outputs": [],
   "source": [
    "import ray\n",
    "from ray import tune\n",
    "import gym"
   ],
   "metadata": {
    "collapsed": false,
    "pycharm": {
     "name": "#%%\n"
    }
   }
  },
  {
   "cell_type": "code",
   "execution_count": 6,
   "outputs": [],
   "source": [
    "from base import Grid"
   ],
   "metadata": {
    "collapsed": false,
    "pycharm": {
     "name": "#%%\n"
    }
   }
  },
  {
   "cell_type": "markdown",
   "source": [
    "## Config and Init"
   ],
   "metadata": {
    "collapsed": false,
    "pycharm": {
     "name": "#%% md\n"
    }
   }
  },
  {
   "cell_type": "code",
   "execution_count": 2,
   "outputs": [
    {
     "data": {
      "text/plain": "RayContext(dashboard_url='', python_version='3.8.13', ray_version='1.13.0', ray_commit='e4ce38d001dbbe09cd21c497fedd03d692b2be3e', address_info={'node_ip_address': '127.0.0.1', 'raylet_ip_address': '127.0.0.1', 'redis_address': None, 'object_store_address': 'tcp://127.0.0.1:64721', 'raylet_socket_name': 'tcp://127.0.0.1:65016', 'webui_url': '', 'session_dir': 'C:\\\\Users\\\\lukas\\\\AppData\\\\Local\\\\Temp\\\\ray\\\\session_2022-07-14_09-51-34_954678_11604', 'metrics_export_port': 64545, 'gcs_address': '127.0.0.1:65023', 'address': '127.0.0.1:65023', 'node_id': 'feca2a4748249869a063994c5e9c89bbea2419bcf45b809a91f3fdc4'})"
     },
     "execution_count": 2,
     "metadata": {},
     "output_type": "execute_result"
    }
   ],
   "source": [
    "ray.init()"
   ],
   "metadata": {
    "collapsed": false,
    "pycharm": {
     "name": "#%%\n"
    }
   }
  },
  {
   "cell_type": "markdown",
   "source": [
    "## Run the Experiment"
   ],
   "metadata": {
    "collapsed": false,
    "pycharm": {
     "name": "#%% md\n"
    }
   }
  },
  {
   "cell_type": "code",
   "execution_count": 7,
   "outputs": [
    {
     "name": "stderr",
     "output_type": "stream",
     "text": [
      "2022-07-14 09:54:19,463\tERROR ray_trial_executor.py:533 -- Trial PPO_                                      ||||                                      \n",
      "                                      S0||                                      \n",
      "                                      W_||                                      \n",
      "      __----SP----SP------SP----------||W_S0--------SP------------              \n",
      "    ||  ----SP----SP------SP------S0W_||||----------SP----------\\\\\\\\            \n",
      "    ||__                              ||W_                        \\\\\\\\          \n",
      "    ||||                              ||S0                          S0\\\\        \n",
      "    ||||                              ||||                          W\\W_W\\S0----\n",
      "    ||||                              ||||                          ||||--------\n",
      "    S0||                              S0||                          W_W_        \n",
      "----W\\--W\\S0--SP------SP--------------W\\||W\\S0--SP------------SP----||S0        \n",
      "--S0----------SP------SP------------S0||||------SP------------SPS0W\\W_W\\        \n",
      "                                      ||S0                          S0S0        \n",
      "                                      ||||                          W\\W_W\\S0SP--\n",
      "                                      ||||                          ||||----SP--\n",
      "                                      ||||                          ||W_        \n",
      "                                      ||||                          ||S0        \n",
      "                                      ||||                          ||||        \n",
      "                                      ||||                          __||        \n",
      "                                      \\\\  \\\\----W_S0--SP----------SP  ||        \n",
      "                                        --S0W\\--W\\----SP----------SP__          \n",
      "                                              ||W_                              \n",
      "                                              SPS0                              \n",
      "                                              ||||                              \n",
      "_2a70f_00000: Unexpected error starting runner.\n",
      "Traceback (most recent call last):\n",
      "  File \"C:\\Users\\lukas\\anaconda3\\envs\\ray-rl\\lib\\site-packages\\ray\\tune\\ray_trial_executor.py\", line 526, in start_trial\n",
      "    return self._start_trial(trial)\n",
      "  File \"C:\\Users\\lukas\\anaconda3\\envs\\ray-rl\\lib\\site-packages\\ray\\tune\\ray_trial_executor.py\", line 429, in _start_trial\n",
      "    runner = self._setup_remote_runner(trial)\n",
      "  File \"C:\\Users\\lukas\\anaconda3\\envs\\ray-rl\\lib\\site-packages\\ray\\tune\\ray_trial_executor.py\", line 294, in _setup_remote_runner\n",
      "    trial.init_logdir()\n",
      "  File \"C:\\Users\\lukas\\anaconda3\\envs\\ray-rl\\lib\\site-packages\\ray\\tune\\trial.py\", line 530, in init_logdir\n",
      "    self.logdir = create_logdir(self._generate_dirname(), self.local_dir)\n",
      "  File \"C:\\Users\\lukas\\anaconda3\\envs\\ray-rl\\lib\\site-packages\\ray\\tune\\trial.py\", line 174, in create_logdir\n",
      "    os.makedirs(logdir, exist_ok=True)\n",
      "  File \"C:\\Users\\lukas\\anaconda3\\envs\\ray-rl\\lib\\os.py\", line 223, in makedirs\n",
      "    mkdir(name, mode)\n",
      "OSError: [WinError 123] Die Syntax für den Dateinamen, Verzeichnisnamen oder die Datenträgerbezeichnung ist falsch: 'C:\\\\Users\\\\lukas\\\\ray_results\\\\PPO\\\\PPO_                                      ||||                                      \\n                                      S0||   _2022-07-14_09-54-19'\n",
      "2022-07-14 09:54:21,480\tWARNING util.py:214 -- The `start_trial` operation took 2.018 s, which may be a performance bottleneck.\n"
     ]
    },
    {
     "data": {
      "text/plain": "<IPython.core.display.HTML object>",
      "text/html": "== Status ==<br>Current time: 2022-07-14 09:54:21 (running for 00:00:02.16)<br>Memory usage on this node: 13.3/15.9 GiB<br>Using FIFO scheduling algorithm.<br>Resources requested: 0/12 CPUs, 0/1 GPUs, 0.0/2.19 GiB heap, 0.0/1.09 GiB objects<br>Result logdir: C:\\Users\\lukas\\ray_results\\PPO<br>Number of trials: 1/1 (1 ERROR)<br><table>\n<thead>\n<tr><th>Trial name  </th><th>status  </th><th>loc  </th></tr>\n</thead>\n<tbody>\n<tr><td>PPO_                                      ||||                                      \n                                      S0||                                      \n                                      W_||                                      \n      __----SP----SP------SP----------||W_S0--------SP------------              \n    ||  ----SP----SP------SP------S0W_||||----------SP----------\\\\\\\\            \n    ||__                              ||W_                        \\\\\\\\          \n    ||||                              ||S0                          S0\\\\        \n    ||||                              ||||                          W\\W_W\\S0----\n    ||||                              ||||                          ||||--------\n    S0||                              S0||                          W_W_        \n----W\\--W\\S0--SP------SP--------------W\\||W\\S0--SP------------SP----||S0        \n--S0----------SP------SP------------S0||||------SP------------SPS0W\\W_W\\        \n                                      ||S0                          S0S0        \n                                      ||||                          W\\W_W\\S0SP--\n                                      ||||                          ||||----SP--\n                                      ||||                          ||W_        \n                                      ||||                          ||S0        \n                                      ||||                          ||||        \n                                      ||||                          __||        \n                                      \\\\  \\\\----W_S0--SP----------SP  ||        \n                                        --S0W\\--W\\----SP----------SP__          \n                                              ||W_                              \n                                              SPS0                              \n                                              ||||                              \n_2a70f_00000             </td><td>ERROR   </td><td>     </td></tr>\n</tbody>\n</table><br><br>"
     },
     "metadata": {},
     "output_type": "display_data"
    },
    {
     "data": {
      "text/plain": "<IPython.core.display.HTML object>",
      "text/html": "== Status ==<br>Current time: 2022-07-14 09:54:21 (running for 00:00:02.17)<br>Memory usage on this node: 13.3/15.9 GiB<br>Using FIFO scheduling algorithm.<br>Resources requested: 0/12 CPUs, 0/1 GPUs, 0.0/2.19 GiB heap, 0.0/1.09 GiB objects<br>Result logdir: C:\\Users\\lukas\\ray_results\\PPO<br>Number of trials: 1/1 (1 ERROR)<br><table>\n<thead>\n<tr><th>Trial name  </th><th>status  </th><th>loc  </th></tr>\n</thead>\n<tbody>\n<tr><td>PPO_                                      ||||                                      \n                                      S0||                                      \n                                      W_||                                      \n      __----SP----SP------SP----------||W_S0--------SP------------              \n    ||  ----SP----SP------SP------S0W_||||----------SP----------\\\\\\\\            \n    ||__                              ||W_                        \\\\\\\\          \n    ||||                              ||S0                          S0\\\\        \n    ||||                              ||||                          W\\W_W\\S0----\n    ||||                              ||||                          ||||--------\n    S0||                              S0||                          W_W_        \n----W\\--W\\S0--SP------SP--------------W\\||W\\S0--SP------------SP----||S0        \n--S0----------SP------SP------------S0||||------SP------------SPS0W\\W_W\\        \n                                      ||S0                          S0S0        \n                                      ||||                          W\\W_W\\S0SP--\n                                      ||||                          ||||----SP--\n                                      ||||                          ||W_        \n                                      ||||                          ||S0        \n                                      ||||                          ||||        \n                                      ||||                          __||        \n                                      \\\\  \\\\----W_S0--SP----------SP  ||        \n                                        --S0W\\--W\\----SP----------SP__          \n                                              ||W_                              \n                                              SPS0                              \n                                              ||||                              \n_2a70f_00000             </td><td>ERROR   </td><td>     </td></tr>\n</tbody>\n</table><br><br>"
     },
     "metadata": {},
     "output_type": "display_data"
    },
    {
     "ename": "TuneError",
     "evalue": "('Trials did not complete', [PPO_                                      ||||                                      \n                                      S0||                                      \n                                      W_||                                      \n      __----SP----SP------SP----------||W_S0--------SP------------              \n    ||  ----SP----SP------SP------S0W_||||----------SP----------\\\\\\\\            \n    ||__                              ||W_                        \\\\\\\\          \n    ||||                              ||S0                          S0\\\\        \n    ||||                              ||||                          W\\W_W\\S0----\n    ||||                              ||||                          ||||--------\n    S0||                              S0||                          W_W_        \n----W\\--W\\S0--SP------SP--------------W\\||W\\S0--SP------------SP----||S0        \n--S0----------SP------SP------------S0||||------SP------------SPS0W\\W_W\\        \n                                      ||S0                          S0S0        \n                                      ||||                          W\\W_W\\S0SP--\n                                      ||||                          ||||----SP--\n                                      ||||                          ||W_        \n                                      ||||                          ||S0        \n                                      ||||                          ||||        \n                                      ||||                          __||        \n                                      \\\\  \\\\----W_S0--SP----------SP  ||        \n                                        --S0W\\--W\\----SP----------SP__          \n                                              ||W_                              \n                                              SPS0                              \n                                              ||||                              \n_2a70f_00000])",
     "output_type": "error",
     "traceback": [
      "\u001B[1;31m---------------------------------------------------------------------------\u001B[0m",
      "\u001B[1;31mTuneError\u001B[0m                                 Traceback (most recent call last)",
      "Input \u001B[1;32mIn [7]\u001B[0m, in \u001B[0;36m<cell line: 1>\u001B[1;34m()\u001B[0m\n\u001B[1;32m----> 1\u001B[0m \u001B[43mtune\u001B[49m\u001B[38;5;241;43m.\u001B[39;49m\u001B[43mrun\u001B[49m\u001B[43m(\u001B[49m\u001B[38;5;124;43m\"\u001B[39;49m\u001B[38;5;124;43mPPO\u001B[39;49m\u001B[38;5;124;43m\"\u001B[39;49m\u001B[43m,\u001B[49m\u001B[43m \u001B[49m\u001B[43mconfig\u001B[49m\u001B[38;5;241;43m=\u001B[39;49m\u001B[43m{\u001B[49m\n\u001B[0;32m      2\u001B[0m \u001B[43m    \u001B[49m\u001B[38;5;124;43m\"\u001B[39;49m\u001B[38;5;124;43menv\u001B[39;49m\u001B[38;5;124;43m\"\u001B[39;49m\u001B[43m:\u001B[49m\u001B[43m \u001B[49m\u001B[43mGrid\u001B[49m\u001B[43m(\u001B[49m\u001B[43m)\u001B[49m\u001B[43m,\u001B[49m\n\u001B[0;32m      3\u001B[0m \u001B[43m    \u001B[49m\u001B[38;5;124;43m\"\u001B[39;49m\u001B[38;5;124;43mevaluation_interval\u001B[39;49m\u001B[38;5;124;43m\"\u001B[39;49m\u001B[43m:\u001B[49m\u001B[43m \u001B[49m\u001B[38;5;241;43m2\u001B[39;49m\u001B[43m,\u001B[49m\n\u001B[0;32m      4\u001B[0m \u001B[43m    \u001B[49m\u001B[38;5;124;43m\"\u001B[39;49m\u001B[38;5;124;43mevaluation_duration\u001B[39;49m\u001B[38;5;124;43m\"\u001B[39;49m\u001B[43m:\u001B[49m\u001B[43m \u001B[49m\u001B[38;5;241;43m20\u001B[39;49m\u001B[43m,\u001B[49m\n\u001B[0;32m      5\u001B[0m \u001B[43m    \u001B[49m\u001B[38;5;124;43m\"\u001B[39;49m\u001B[38;5;124;43mnum_gpus\u001B[39;49m\u001B[38;5;124;43m\"\u001B[39;49m\u001B[43m:\u001B[49m\u001B[43m \u001B[49m\u001B[38;5;241;43m0\u001B[39;49m\n\u001B[0;32m      6\u001B[0m \u001B[43m}\u001B[49m\u001B[43m)\u001B[49m\n",
      "File \u001B[1;32m~\\anaconda3\\envs\\ray-rl\\lib\\site-packages\\ray\\tune\\tune.py:741\u001B[0m, in \u001B[0;36mrun\u001B[1;34m(run_or_experiment, name, metric, mode, stop, time_budget_s, config, resources_per_trial, num_samples, local_dir, search_alg, scheduler, keep_checkpoints_num, checkpoint_score_attr, checkpoint_freq, checkpoint_at_end, verbose, progress_reporter, log_to_file, trial_name_creator, trial_dirname_creator, sync_config, export_formats, max_failures, fail_fast, restore, server_port, resume, reuse_actors, trial_executor, raise_on_failed_trial, callbacks, max_concurrent_trials, _experiment_checkpoint_dir, loggers, _remote)\u001B[0m\n\u001B[0;32m    739\u001B[0m \u001B[38;5;28;01mif\u001B[39;00m incomplete_trials:\n\u001B[0;32m    740\u001B[0m     \u001B[38;5;28;01mif\u001B[39;00m raise_on_failed_trial \u001B[38;5;129;01mand\u001B[39;00m \u001B[38;5;129;01mnot\u001B[39;00m state[\u001B[38;5;124m\"\u001B[39m\u001B[38;5;124msignal\u001B[39m\u001B[38;5;124m\"\u001B[39m]:\n\u001B[1;32m--> 741\u001B[0m         \u001B[38;5;28;01mraise\u001B[39;00m TuneError(\u001B[38;5;124m\"\u001B[39m\u001B[38;5;124mTrials did not complete\u001B[39m\u001B[38;5;124m\"\u001B[39m, incomplete_trials)\n\u001B[0;32m    742\u001B[0m     \u001B[38;5;28;01melse\u001B[39;00m:\n\u001B[0;32m    743\u001B[0m         logger\u001B[38;5;241m.\u001B[39merror(\u001B[38;5;124m\"\u001B[39m\u001B[38;5;124mTrials did not complete: \u001B[39m\u001B[38;5;132;01m%s\u001B[39;00m\u001B[38;5;124m\"\u001B[39m, incomplete_trials)\n",
      "\u001B[1;31mTuneError\u001B[0m: ('Trials did not complete', [PPO_                                      ||||                                      \n                                      S0||                                      \n                                      W_||                                      \n      __----SP----SP------SP----------||W_S0--------SP------------              \n    ||  ----SP----SP------SP------S0W_||||----------SP----------\\\\\\\\            \n    ||__                              ||W_                        \\\\\\\\          \n    ||||                              ||S0                          S0\\\\        \n    ||||                              ||||                          W\\W_W\\S0----\n    ||||                              ||||                          ||||--------\n    S0||                              S0||                          W_W_        \n----W\\--W\\S0--SP------SP--------------W\\||W\\S0--SP------------SP----||S0        \n--S0----------SP------SP------------S0||||------SP------------SPS0W\\W_W\\        \n                                      ||S0                          S0S0        \n                                      ||||                          W\\W_W\\S0SP--\n                                      ||||                          ||||----SP--\n                                      ||||                          ||W_        \n                                      ||||                          ||S0        \n                                      ||||                          ||||        \n                                      ||||                          __||        \n                                      \\\\  \\\\----W_S0--SP----------SP  ||        \n                                        --S0W\\--W\\----SP----------SP__          \n                                              ||W_                              \n                                              SPS0                              \n                                              ||||                              \n_2a70f_00000])"
     ]
    }
   ],
   "source": [
    "tune.run(\"PPO\", config={\n",
    "    \"env\": Grid(),\n",
    "    \"evaluation_interval\": 2,\n",
    "    \"evaluation_duration\": 20,\n",
    "    \"num_gpus\": 0\n",
    "})"
   ],
   "metadata": {
    "collapsed": false,
    "pycharm": {
     "name": "#%%\n"
    }
   }
  },
  {
   "cell_type": "code",
   "execution_count": null,
   "outputs": [],
   "source": [],
   "metadata": {
    "collapsed": false,
    "pycharm": {
     "name": "#%%\n"
    }
   }
  }
 ],
 "metadata": {
  "kernelspec": {
   "display_name": "Python 3",
   "language": "python",
   "name": "python3"
  },
  "language_info": {
   "codemirror_mode": {
    "name": "ipython",
    "version": 2
   },
   "file_extension": ".py",
   "mimetype": "text/x-python",
   "name": "python",
   "nbconvert_exporter": "python",
   "pygments_lexer": "ipython2",
   "version": "2.7.6"
  }
 },
 "nbformat": 4,
 "nbformat_minor": 0
}
{
 "cells": [
  {
   "cell_type": "code",
   "execution_count": 2,
   "metadata": {
    "collapsed": true
   },
   "outputs": [],
   "source": [
    "from base import Grid"
   ]
  },
  {
   "cell_type": "code",
   "execution_count": 3,
   "outputs": [],
   "source": [
    "env = Grid()"
   ],
   "metadata": {
    "collapsed": false,
    "pycharm": {
     "name": "#%%\n"
    }
   }
  },
  {
   "cell_type": "code",
   "execution_count": 4,
   "outputs": [
    {
     "data": {
      "text/plain": "{'signal_cluster_kubruecke': array([nan, nan, nan, nan], dtype=float32),\n 'signal_cluster_paradeplatz': array([nan, nan, nan, nan], dtype=float32),\n 'signal_cluster_handelshafen': array([nan, nan, nan], dtype=float32),\n 'signal_cluster_nationaltheater': array([nan, nan, nan], dtype=float32),\n 'signal_cluster_tattersall': array([nan, nan, nan], dtype=float32),\n 'signal_cluster_kabruecke': array([nan, nan, nan], dtype=float32),\n 'signal_cluster_wasserturm': array([nan, nan], dtype=float32)}"
     },
     "execution_count": 4,
     "metadata": {},
     "output_type": "execute_result"
    }
   ],
   "source": [
    "env.reset()"
   ],
   "metadata": {
    "collapsed": false,
    "pycharm": {
     "name": "#%%\n"
    }
   }
  },
  {
   "cell_type": "code",
   "execution_count": 5,
   "outputs": [
    {
     "data": {
      "text/plain": "array([0, 0, 2, 0, 1, 3, 0], dtype=int64)"
     },
     "execution_count": 5,
     "metadata": {},
     "output_type": "execute_result"
    }
   ],
   "source": [
    "action = env.action_space.sample()\n",
    "\n",
    "action"
   ],
   "metadata": {
    "collapsed": false,
    "pycharm": {
     "name": "#%%\n"
    }
   }
  },
  {
   "cell_type": "code",
   "execution_count": 23,
   "outputs": [
    {
     "name": "stdout",
     "output_type": "stream",
     "text": [
      "Train 1 \n",
      " From 19 | 5 to 19 | 5\n",
      "Train 5 \n",
      " From 36 | 8 to 36 | 8\n",
      "Train 6 \n",
      " From 33 | 10 to 33 | 10\n",
      "13 36\n",
      "Train 1 \n",
      " From 35 | 13 to 35 | 13\n",
      "Train 4 \n",
      " From 28 | 20 to 28 | 20\n"
     ]
    }
   ],
   "source": [
    "state, reward, done, info = env.step(action)"
   ],
   "metadata": {
    "collapsed": false,
    "pycharm": {
     "name": "#%%\n"
    }
   }
  },
  {
   "cell_type": "code",
   "execution_count": 20,
   "outputs": [
    {
     "data": {
      "text/plain": "5"
     },
     "execution_count": 20,
     "metadata": {},
     "output_type": "execute_result"
    }
   ],
   "source": [
    "env.world_step"
   ],
   "metadata": {
    "collapsed": false,
    "pycharm": {
     "name": "#%%\n"
    }
   }
  },
  {
   "cell_type": "code",
   "execution_count": 27,
   "outputs": [
    {
     "data": {
      "text/plain": "{'signal_cluster_kubruecke': array([nan, nan, nan, nan], dtype=float32),\n 'signal_cluster_paradeplatz': array([nan, nan, nan, nan], dtype=float32),\n 'signal_cluster_handelshafen': array([nan, nan, nan], dtype=float32),\n 'signal_cluster_nationaltheater': array([nan,  2., nan], dtype=float32),\n 'signal_cluster_tattersall': array([nan, nan,  0.], dtype=float32),\n 'signal_cluster_kabruecke': array([nan, nan, nan], dtype=float32),\n 'signal_cluster_wasserturm': array([nan, nan], dtype=float32)}"
     },
     "execution_count": 27,
     "metadata": {},
     "output_type": "execute_result"
    }
   ],
   "source": [
    "state"
   ],
   "metadata": {
    "collapsed": false,
    "pycharm": {
     "name": "#%%\n"
    }
   }
  },
  {
   "cell_type": "code",
   "execution_count": 32,
   "outputs": [
    {
     "data": {
      "text/plain": "array([nan, nan, nan, nan], dtype=float32)"
     },
     "execution_count": 32,
     "metadata": {},
     "output_type": "execute_result"
    }
   ],
   "source": [
    "state[\"signal_cluster_kubruecke\"]"
   ],
   "metadata": {
    "collapsed": false,
    "pycharm": {
     "name": "#%%\n"
    }
   }
  },
  {
   "cell_type": "code",
   "execution_count": 28,
   "outputs": [
    {
     "data": {
      "text/plain": "9.0"
     },
     "execution_count": 28,
     "metadata": {},
     "output_type": "execute_result"
    }
   ],
   "source": [
    "reward"
   ],
   "metadata": {
    "collapsed": false,
    "pycharm": {
     "name": "#%%\n"
    }
   }
  },
  {
   "cell_type": "code",
   "execution_count": 29,
   "outputs": [
    {
     "data": {
      "text/plain": "False"
     },
     "execution_count": 29,
     "metadata": {},
     "output_type": "execute_result"
    }
   ],
   "source": [
    "done"
   ],
   "metadata": {
    "collapsed": false,
    "pycharm": {
     "name": "#%%\n"
    }
   }
  },
  {
   "cell_type": "code",
   "execution_count": 30,
   "outputs": [
    {
     "data": {
      "text/plain": "{'average_delay': 0.4}"
     },
     "execution_count": 30,
     "metadata": {},
     "output_type": "execute_result"
    }
   ],
   "source": [
    "info"
   ],
   "metadata": {
    "collapsed": false,
    "pycharm": {
     "name": "#%%\n"
    }
   }
  },
  {
   "cell_type": "code",
   "execution_count": 33,
   "outputs": [],
   "source": [
    "def brute_force(env):\n",
    "    env.reset()\n",
    "    for _ in range(100):\n",
    "        action = env.action_space.sample()\n",
    "        state, reward, done, info = env.step(action)\n",
    "        print(f\"Reward: {reward}, Done: {done}, Delay: {info['average_delay']}\")\n",
    "        if done is True:\n",
    "            break"
   ],
   "metadata": {
    "collapsed": false,
    "pycharm": {
     "name": "#%%\n"
    }
   }
  },
  {
   "cell_type": "code",
   "execution_count": 34,
   "outputs": [
    {
     "name": "stdout",
     "output_type": "stream",
     "text": [
      "Reward: 0, Done: False, Delay: 0\n",
      "Train 6 \n",
      " From 38 | 13 to 38 | 13\n",
      "Reward: 0, Done: False, Delay: -2.0\n",
      "Train 4 \n",
      " From 19 | 1 to 19 | 1\n",
      "Train 6 \n",
      " From 37 | 13 to 37 | 13\n",
      "Train 4 \n",
      " From 24 | 22 to 24 | 22\n",
      "Reward: 0, Done: False, Delay: 0.3333333333333333\n",
      "Train 4 \n",
      " From 19 | 2 to 19 | 2\n",
      "Train 4 \n",
      " From 19 | 1 to 19 | 1\n",
      "Train 4 \n",
      " From 19 | 2 to 19 | 2\n",
      "2 19\n",
      "Train 4 \n",
      " From 19 | 3 to 19 | 3\n",
      "Train 4 \n",
      " From 19 | 4 to 19 | 4\n",
      "Train 4 \n",
      " From 19 | 5 to 19 | 5\n",
      "Train 4 \n",
      " From 19 | 6 to 19 | 6\n",
      "Train 4 \n",
      " From 19 | 7 to 19 | 7\n",
      "Train 4 \n",
      " From 19 | 8 to 19 | 8\n",
      "Train 4 \n",
      " From 19 | 9 to 19 | 9\n",
      "Train 4 \n",
      " From 19 | 10 to 19 | 10\n",
      "10 19\n",
      "Train 4 \n",
      " From 19 | 11 to 19 | 11\n",
      "Train 4 \n",
      " From 19 | 12 to 19 | 12\n",
      "Train 4 \n",
      " From 19 | 13 to 19 | 13\n",
      "Train 4 \n",
      " From 19 | 14 to 19 | 14\n",
      "Train 6 \n",
      " From 36 | 13 to 36 | 13\n",
      "Train 4 \n",
      " From 19 | 15 to 19 | 15\n",
      "Train 4 \n",
      " From 19 | 16 to 19 | 16\n",
      "Train 4 \n",
      " From 19 | 17 to 19 | 17\n",
      "Train 4 \n",
      " From 19 | 18 to 19 | 18\n",
      "Train 4 \n",
      " From 19 | 19 to 19 | 19\n",
      "Train 4 \n",
      " From 20 | 20 to 20 | 20\n",
      "Train 4 \n",
      " From 21 | 20 to 21 | 20\n",
      "Train 4 \n",
      " From 22 | 20 to 22 | 20\n",
      "20 22\n",
      "Train 4 \n",
      " From 23 | 21 to 23 | 21\n",
      "Train 4 \n",
      " From 23 | 22 to 23 | 22\n",
      "Train 4 \n",
      " From 23 | 23 to 23 | 23\n",
      "Train 4 \n",
      " From 24 | 21 to 24 | 21\n",
      "Reward: 0, Done: False, Delay: -1.0\n",
      "Train 1 \n",
      " From 19 | 1 to 19 | 1\n",
      "Train 1 \n",
      " From 19 | 2 to 19 | 2\n",
      "13 36\n",
      "Train 6 \n",
      " From 35 | 12 to 35 | 12\n",
      "Train 1 \n",
      " From 38 | 13 to 38 | 13\n",
      "21 24\n",
      "Train 4 \n",
      " From 25 | 20 to 25 | 20\n",
      "Reward: 0, Done: False, Delay: -1.25\n",
      "2 19\n",
      "Train 1 \n",
      " From 19 | 3 to 19 | 3\n",
      "Train 5 \n",
      " From 38 | 8 to 38 | 8\n",
      "Train 6 \n",
      " From 35 | 11 to 35 | 11\n",
      "Train 1 \n",
      " From 37 | 13 to 37 | 13\n",
      "Train 4 \n",
      " From 26 | 20 to 26 | 20\n",
      "Reward: 0, Done: False, Delay: -1.0\n",
      "Train 1 \n",
      " From 19 | 4 to 19 | 4\n",
      "Train 5 \n",
      " From 37 | 8 to 37 | 8\n",
      "11 35\n",
      "Train 6 \n",
      " From 34 | 10 to 34 | 10\n",
      "Train 1 \n",
      " From 36 | 13 to 36 | 13\n",
      "Train 4 \n",
      " From 27 | 20 to 27 | 20\n",
      "Reward: 0, Done: False, Delay: -1.0\n",
      "Train 1 \n",
      " From 19 | 5 to 19 | 5\n",
      "Train 5 \n",
      " From 36 | 8 to 36 | 8\n",
      "Train 6 \n",
      " From 33 | 10 to 33 | 10\n",
      "13 36\n",
      "Train 1 \n",
      " From 35 | 13 to 35 | 13\n",
      "Train 4 \n",
      " From 28 | 20 to 28 | 20\n",
      "Reward: 10.0, Done: False, Delay: -0.6\n",
      "Train 2 \n",
      " From 19 | 1 to 19 | 1\n",
      "Train 1 \n",
      " From 19 | 6 to 19 | 6\n",
      "Train 5 \n",
      " From 35 | 8 to 35 | 8\n",
      "Train 6 \n",
      " From 32 | 10 to 32 | 10\n",
      "13 35\n",
      "Train 1 \n",
      " From 34 | 14 to 34 | 14\n",
      "Train 4 \n",
      " From 29 | 20 to 29 | 20\n",
      "Train 7 \n",
      " From 24 | 22 to 24 | 22\n",
      "Reward: 0, Done: False, Delay: -0.42857142857142855\n",
      "Train 2 \n",
      " From 19 | 2 to 19 | 2\n",
      "Train 2 \n",
      " From 19 | 1 to 19 | 1\n",
      "Train 2 \n",
      " From 19 | 2 to 19 | 2\n",
      "2 19\n",
      "Train 2 \n",
      " From 18 | 3 to 18 | 3\n",
      "Train 2 \n",
      " From 17 | 3 to 17 | 3\n",
      "Train 1 \n",
      " From 19 | 7 to 19 | 7\n",
      "Train 5 \n",
      " From 34 | 8 to 34 | 8\n",
      "Train 6 \n",
      " From 31 | 10 to 31 | 10\n",
      "Train 6 \n",
      " From 1 | 11 to 1 | 11\n",
      "Train 1 \n",
      " From 34 | 15 to 34 | 15\n",
      "Train 4 \n",
      " From 30 | 20 to 30 | 20\n",
      "Train 7 \n",
      " From 24 | 21 to 24 | 21\n",
      "Reward: 0, Done: False, Delay: 0.2222222222222222\n",
      "Train 5 \n",
      " From 19 | 1 to 19 | 1\n",
      "Train 5 \n",
      " From 19 | 2 to 19 | 2\n",
      "Train 2 \n",
      " From 16 | 3 to 16 | 3\n",
      "Train 1 \n",
      " From 19 | 8 to 19 | 8\n",
      "Train 5 \n",
      " From 33 | 8 to 33 | 8\n",
      "Train 6 \n",
      " From 30 | 10 to 30 | 10\n",
      "Train 6 \n",
      " From 2 | 11 to 2 | 11\n",
      "Train 1 \n",
      " From 34 | 16 to 34 | 16\n",
      "Train 4 \n",
      " From 31 | 20 to 31 | 20\n",
      "Unexpected exception formatting exception. Falling back to standard exception\n"
     ]
    },
    {
     "name": "stderr",
     "output_type": "stream",
     "text": [
      "Traceback (most recent call last):\n",
      "  File \"c:\\projects\\on-time\\venv\\on-time\\lib\\site-packages\\IPython\\core\\interactiveshell.py\", line 3398, in run_code\n",
      "    exec(code_obj, self.user_global_ns, self.user_ns)\n",
      "  File \"C:\\Users\\lukas\\AppData\\Local\\Temp\\ipykernel_8724\\1494486923.py\", line 1, in <cell line: 1>\n",
      "    brute_force(env)\n",
      "  File \"C:\\Users\\lukas\\AppData\\Local\\Temp\\ipykernel_8724\\4139363830.py\", line 5, in brute_force\n",
      "    state, reward, done, info = env.step(action)\n",
      "  File \"C:\\Projects\\on-time\\src\\on-time\\base.py\", line 57, in step\n",
      "    if self.world_step > 400:\n",
      "  File \"C:\\Projects\\on-time\\src\\on-time\\base.py\", line 416, in _update_world\n",
      "  File \"C:\\Projects\\on-time\\src\\on-time\\train.py\", line 32, in read_track\n",
      "    grid_symbol.change_status(self.switches.popleft())\n",
      "  File \"C:\\Projects\\on-time\\src\\on-time\\helper.py\", line 46, in change_status\n",
      "    raise Exception(f\"Switch forced to switch to wrong status! Was given {status_updated} but can only accept \"\n",
      "Exception: Switch forced to switch to wrong status! Was given | but can only accept ('-', '/')\n",
      "\n",
      "During handling of the above exception, another exception occurred:\n",
      "\n",
      "Traceback (most recent call last):\n",
      "  File \"c:\\projects\\on-time\\venv\\on-time\\lib\\site-packages\\IPython\\core\\interactiveshell.py\", line 1993, in showtraceback\n",
      "    stb = self.InteractiveTB.structured_traceback(\n",
      "  File \"c:\\projects\\on-time\\venv\\on-time\\lib\\site-packages\\IPython\\core\\ultratb.py\", line 1118, in structured_traceback\n",
      "    return FormattedTB.structured_traceback(\n",
      "  File \"c:\\projects\\on-time\\venv\\on-time\\lib\\site-packages\\IPython\\core\\ultratb.py\", line 1012, in structured_traceback\n",
      "    return VerboseTB.structured_traceback(\n",
      "  File \"c:\\projects\\on-time\\venv\\on-time\\lib\\site-packages\\IPython\\core\\ultratb.py\", line 865, in structured_traceback\n",
      "    formatted_exception = self.format_exception_as_a_whole(etype, evalue, etb, number_of_lines_of_context,\n",
      "  File \"c:\\projects\\on-time\\venv\\on-time\\lib\\site-packages\\IPython\\core\\ultratb.py\", line 818, in format_exception_as_a_whole\n",
      "    frames.append(self.format_record(r))\n",
      "  File \"c:\\projects\\on-time\\venv\\on-time\\lib\\site-packages\\IPython\\core\\ultratb.py\", line 736, in format_record\n",
      "    result += ''.join(_format_traceback_lines(frame_info.lines, Colors, self.has_colors, lvals))\n",
      "  File \"c:\\projects\\on-time\\venv\\on-time\\lib\\site-packages\\stack_data\\utils.py\", line 145, in cached_property_wrapper\n",
      "    value = obj.__dict__[self.func.__name__] = self.func(obj)\n",
      "  File \"c:\\projects\\on-time\\venv\\on-time\\lib\\site-packages\\stack_data\\core.py\", line 698, in lines\n",
      "    pieces = self.included_pieces\n",
      "  File \"c:\\projects\\on-time\\venv\\on-time\\lib\\site-packages\\stack_data\\utils.py\", line 145, in cached_property_wrapper\n",
      "    value = obj.__dict__[self.func.__name__] = self.func(obj)\n",
      "  File \"c:\\projects\\on-time\\venv\\on-time\\lib\\site-packages\\stack_data\\core.py\", line 649, in included_pieces\n",
      "    pos = scope_pieces.index(self.executing_piece)\n",
      "  File \"c:\\projects\\on-time\\venv\\on-time\\lib\\site-packages\\stack_data\\utils.py\", line 145, in cached_property_wrapper\n",
      "    value = obj.__dict__[self.func.__name__] = self.func(obj)\n",
      "  File \"c:\\projects\\on-time\\venv\\on-time\\lib\\site-packages\\stack_data\\core.py\", line 628, in executing_piece\n",
      "    return only(\n",
      "  File \"c:\\projects\\on-time\\venv\\on-time\\lib\\site-packages\\executing\\executing.py\", line 164, in only\n",
      "    raise NotOneValueFound('Expected one value, found 0')\n",
      "executing.executing.NotOneValueFound: Expected one value, found 0\n"
     ]
    }
   ],
   "source": [
    "brute_force(env)"
   ],
   "metadata": {
    "collapsed": false,
    "pycharm": {
     "name": "#%%\n"
    }
   }
  },
  {
   "cell_type": "code",
   "execution_count": 40,
   "outputs": [],
   "source": [
    "def run_agent(env, q_table):\n",
    "    pass"
   ],
   "metadata": {
    "collapsed": false,
    "pycharm": {
     "name": "#%%\n"
    }
   }
  },
  {
   "cell_type": "code",
   "execution_count": null,
   "outputs": [],
   "source": [],
   "metadata": {
    "collapsed": false,
    "pycharm": {
     "name": "#%%\n"
    }
   }
  }
 ],
 "metadata": {
  "kernelspec": {
   "display_name": "Python 3",
   "language": "python",
   "name": "python3"
  },
  "language_info": {
   "codemirror_mode": {
    "name": "ipython",
    "version": 2
   },
   "file_extension": ".py",
   "mimetype": "text/x-python",
   "name": "python",
   "nbconvert_exporter": "python",
   "pygments_lexer": "ipython2",
   "version": "2.7.6"
  }
 },
 "nbformat": 4,
 "nbformat_minor": 0
}
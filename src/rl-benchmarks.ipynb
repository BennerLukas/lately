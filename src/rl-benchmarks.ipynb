{
 "metadata": {
  "kernelspec": {
   "language": "python",
   "display_name": "Python 3",
   "name": "python3"
  },
  "language_info": {
   "name": "python",
   "version": "3.7.12",
   "mimetype": "text/x-python",
   "codemirror_mode": {
    "name": "ipython",
    "version": 3
   },
   "pygments_lexer": "ipython3",
   "nbconvert_exporter": "python",
   "file_extension": ".py"
  }
 },
 "nbformat_minor": 4,
 "nbformat": 4,
 "cells": [
  {
   "cell_type": "markdown",
   "source": [
    "# Reinforcment Benchmarks\n",
    "\n",
    "Based on the work of: source: https://www.kaggle.com/code/shantanu199/q-learning"
   ],
   "metadata": {}
  },
  {
   "cell_type": "markdown",
   "source": [
    "## Init"
   ],
   "metadata": {}
  },
  {
   "cell_type": "code",
   "source": [
    "import gym # openAi gym\n",
    "# import torch.nn as nn\n",
    "# import torch\n",
    "import random\n",
    "import numpy as np\n",
    "from IPython.display import clear_output\n",
    "import time"
   ],
   "metadata": {
    "execution": {
     "iopub.status.busy": "2022-06-28T13:17:15.020427Z",
     "iopub.execute_input": "2022-06-28T13:17:15.020845Z",
     "iopub.status.idle": "2022-06-28T13:17:15.026539Z",
     "shell.execute_reply.started": "2022-06-28T13:17:15.020812Z",
     "shell.execute_reply": "2022-06-28T13:17:15.025266Z"
    },
    "trusted": true
   },
   "execution_count": 1,
   "outputs": []
  },
  {
   "cell_type": "code",
   "source": [
    "seed = 123"
   ],
   "metadata": {
    "execution": {
     "iopub.status.busy": "2022-06-28T13:12:33.508494Z",
     "iopub.execute_input": "2022-06-28T13:12:33.509536Z",
     "iopub.status.idle": "2022-06-28T13:12:33.513814Z",
     "shell.execute_reply.started": "2022-06-28T13:12:33.509490Z",
     "shell.execute_reply": "2022-06-28T13:12:33.513007Z"
    },
    "trusted": true
   },
   "execution_count": 2,
   "outputs": []
  },
  {
   "cell_type": "code",
   "source": [
    "random.seed(seed)\n",
    "np.random.seed(seed)\n",
    "# torch.random.manual_seed(seed)"
   ],
   "metadata": {
    "execution": {
     "iopub.status.busy": "2022-06-28T13:12:33.884855Z",
     "iopub.execute_input": "2022-06-28T13:12:33.885490Z",
     "iopub.status.idle": "2022-06-28T13:12:33.897324Z",
     "shell.execute_reply.started": "2022-06-28T13:12:33.885449Z",
     "shell.execute_reply": "2022-06-28T13:12:33.896284Z"
    },
    "trusted": true
   },
   "execution_count": 3,
   "outputs": []
  },
  {
   "cell_type": "code",
   "execution_count": 4,
   "outputs": [
    {
     "ename": "ImportError",
     "evalue": "cannot import name 'ObsType' from 'gym.core' (C:\\Users\\lukas\\anaconda3\\lib\\site-packages\\gym\\core.py)",
     "output_type": "error",
     "traceback": [
      "\u001B[1;31m---------------------------------------------------------------------------\u001B[0m",
      "\u001B[1;31mImportError\u001B[0m                               Traceback (most recent call last)",
      "\u001B[1;32m~\\AppData\\Local\\Temp/ipykernel_25132/273901833.py\u001B[0m in \u001B[0;36m<module>\u001B[1;34m\u001B[0m\n\u001B[1;32m----> 1\u001B[1;33m \u001B[1;32mfrom\u001B[0m \u001B[0msimulation\u001B[0m\u001B[1;33m.\u001B[0m\u001B[0mbase\u001B[0m \u001B[1;32mimport\u001B[0m \u001B[0mGrid\u001B[0m\u001B[1;33m\u001B[0m\u001B[1;33m\u001B[0m\u001B[0m\n\u001B[0m",
      "\u001B[1;32mC:\\Projects\\on-time\\src\\simulation\\base.py\u001B[0m in \u001B[0;36m<module>\u001B[1;34m\u001B[0m\n\u001B[0;32m      8\u001B[0m \u001B[1;32mimport\u001B[0m \u001B[0mnumpy\u001B[0m \u001B[1;32mas\u001B[0m \u001B[0mnp\u001B[0m\u001B[1;33m\u001B[0m\u001B[1;33m\u001B[0m\u001B[0m\n\u001B[0;32m      9\u001B[0m \u001B[1;32mfrom\u001B[0m \u001B[0mgym\u001B[0m \u001B[1;32mimport\u001B[0m \u001B[0mspaces\u001B[0m\u001B[1;33m\u001B[0m\u001B[1;33m\u001B[0m\u001B[0m\n\u001B[1;32m---> 10\u001B[1;33m \u001B[1;32mfrom\u001B[0m \u001B[0mgym\u001B[0m\u001B[1;33m.\u001B[0m\u001B[0mcore\u001B[0m \u001B[1;32mimport\u001B[0m \u001B[0mObsType\u001B[0m\u001B[1;33m,\u001B[0m \u001B[0mActType\u001B[0m\u001B[1;33m\u001B[0m\u001B[1;33m\u001B[0m\u001B[0m\n\u001B[0m\u001B[0;32m     11\u001B[0m \u001B[1;33m\u001B[0m\u001B[0m\n\u001B[0;32m     12\u001B[0m \u001B[1;32mfrom\u001B[0m \u001B[0mhelper\u001B[0m \u001B[1;32mimport\u001B[0m \u001B[0mSwitch\u001B[0m\u001B[1;33m,\u001B[0m \u001B[0mSignal\u001B[0m\u001B[1;33m,\u001B[0m \u001B[0mStop\u001B[0m\u001B[1;33m\u001B[0m\u001B[1;33m\u001B[0m\u001B[0m\n",
      "\u001B[1;31mImportError\u001B[0m: cannot import name 'ObsType' from 'gym.core' (C:\\Users\\lukas\\anaconda3\\lib\\site-packages\\gym\\core.py)"
     ]
    }
   ],
   "source": [
    "from simulation.base import Grid"
   ],
   "metadata": {
    "collapsed": false,
    "pycharm": {
     "name": "#%%\n"
    }
   }
  },
  {
   "cell_type": "code",
   "source": [
    "taxi_env = gym.make('Taxi-v3')\n",
    "\n",
    "env = taxi_env\n",
    "env.reset()\n",
    "env.render()"
   ],
   "metadata": {
    "execution": {
     "iopub.status.busy": "2022-06-28T13:12:36.742049Z",
     "iopub.execute_input": "2022-06-28T13:12:36.742526Z",
     "iopub.status.idle": "2022-06-28T13:12:36.818107Z",
     "shell.execute_reply.started": "2022-06-28T13:12:36.742488Z",
     "shell.execute_reply": "2022-06-28T13:12:36.817345Z"
    },
    "trusted": true
   },
   "execution_count": 7,
   "outputs": [
    {
     "name": "stdout",
     "output_type": "stream",
     "text": [
      "+---------+\n",
      "|\u001B[35mR\u001B[0m: | :\u001B[43m \u001B[0m:\u001B[34;1mG\u001B[0m|\n",
      "| : | : : |\n",
      "| : : : : |\n",
      "| | : | : |\n",
      "|Y| : |B: |\n",
      "+---------+\n",
      "\n"
     ]
    }
   ]
  },
  {
   "cell_type": "code",
   "source": [
    "# Action Space & Obersvation Space\n",
    "print(env.action_space.n)\n",
    "print(env.observation_space.n)"
   ],
   "metadata": {
    "execution": {
     "iopub.status.busy": "2022-06-28T13:13:47.439292Z",
     "iopub.execute_input": "2022-06-28T13:13:47.439726Z",
     "iopub.status.idle": "2022-06-28T13:13:47.444644Z",
     "shell.execute_reply.started": "2022-06-28T13:13:47.439691Z",
     "shell.execute_reply": "2022-06-28T13:13:47.443880Z"
    },
    "trusted": true
   },
   "execution_count": 9,
   "outputs": [
    {
     "name": "stdout",
     "output_type": "stream",
     "text": [
      "6\n",
      "500\n"
     ]
    }
   ]
  },
  {
   "cell_type": "code",
   "source": [
    "# Environment Parameters\n",
    "actions = {0: 'South', 1: 'North', 2: 'East', 3: 'West', 4: 'Pickup', 5: 'Dropoff'}\n",
    "passenger = {'R': 0, 'G': 1, 'Y': 2, 'B': 3, 'Car': 4}\n",
    "dest = {'R': 0, 'G': 1, 'Y': 2, 'B': 3}\n",
    "\n",
    "\n",
    "# Reward: each_step=-1, incorrect_pickup_dropoff=-10, correct_dropoff=20\n",
    "# Penalty: incorrect_pickup_dropoff=1"
   ],
   "metadata": {
    "execution": {
     "iopub.status.busy": "2022-06-28T13:14:27.234952Z",
     "iopub.execute_input": "2022-06-28T13:14:27.235427Z",
     "iopub.status.idle": "2022-06-28T13:14:27.241662Z",
     "shell.execute_reply.started": "2022-06-28T13:14:27.235391Z",
     "shell.execute_reply": "2022-06-28T13:14:27.240613Z"
    },
    "trusted": true
   },
   "execution_count": 15,
   "outputs": []
  },
  {
   "cell_type": "markdown",
   "source": [
    "# Helper Classes"
   ],
   "metadata": {}
  },
  {
   "cell_type": "code",
   "source": [
    "# Brute Force - only exploration\n",
    "def brute_force(state):\n",
    "    env.s = state\n",
    "    epochs = 0\n",
    "    penalties = 0\n",
    "    reward = 0\n",
    "    frames = [] # for animation\n",
    "    # initial state\n",
    "    frames.append({\n",
    "        'frame': env.render(mode='ansi'),\n",
    "        'state': state,\n",
    "        'action': '--',\n",
    "        'reward': '--'\n",
    "        }\n",
    "    )\n",
    "    done = False\n",
    "    \n",
    "    while not done:\n",
    "        # Next action is choosen randomly\n",
    "        action = env.action_space.sample() # chooses random possible action\n",
    "        state, reward, done, info = env.step(action)\n",
    "        if reward == -10:\n",
    "            penalties += 1\n",
    "            \n",
    "        # Put each rendered frame into dict for animation\n",
    "        frames.append({\n",
    "            'frame': env.render(mode='ansi'),\n",
    "            'state': state,\n",
    "            'action': action,\n",
    "            'reward': reward\n",
    "            }\n",
    "        )\n",
    "        epochs += 1\n",
    "    return frames, epochs, penalties"
   ],
   "metadata": {
    "execution": {
     "iopub.status.busy": "2022-06-28T13:15:25.914090Z",
     "iopub.execute_input": "2022-06-28T13:15:25.914758Z",
     "iopub.status.idle": "2022-06-28T13:15:25.925309Z",
     "shell.execute_reply.started": "2022-06-28T13:15:25.914701Z",
     "shell.execute_reply": "2022-06-28T13:15:25.922528Z"
    },
    "trusted": true
   },
   "execution_count": 16,
   "outputs": []
  },
  {
   "cell_type": "code",
   "source": [
    "# Visualise frames\n",
    "def print_frames(frames, time_btw_frames=0.1):\n",
    "    for i, frame in enumerate(frames):\n",
    "        clear_output(wait=True)\n",
    "        print(frame['frame'])\n",
    "        print(f\"Timestep: {i}\")\n",
    "        print(f\"State: {frame['state']}\")\n",
    "        print(f\"Action: {frame['action']}\")\n",
    "        print(f\"Reward: {frame['reward']}\")\n",
    "        time.sleep(time_btw_frames)"
   ],
   "metadata": {
    "execution": {
     "iopub.status.busy": "2022-06-28T13:15:55.136883Z",
     "iopub.execute_input": "2022-06-28T13:15:55.137295Z",
     "iopub.status.idle": "2022-06-28T13:15:55.144486Z",
     "shell.execute_reply.started": "2022-06-28T13:15:55.137260Z",
     "shell.execute_reply": "2022-06-28T13:15:55.143262Z"
    },
    "trusted": true
   },
   "execution_count": 17,
   "outputs": []
  },
  {
   "cell_type": "code",
   "source": [
    "# Train agent to find path using Reinforcement Learning\n",
    "def train_agent():\n",
    "    q_table = np.zeros([env.observation_space.n, env.action_space.n])\n",
    "    q_table = np.zeros([env.observation_space.n, env.action_space.n])\n",
    "    # Hyperparameters\n",
    "    # Learning rate\n",
    "    alpha = 0.1\n",
    "    # Discount factor: importance to future rewards\n",
    "    gamma = 0.6\n",
    "    # Exploration rate\n",
    "    epsilon = 0.1\n",
    "\n",
    "    # For plotting metrics\n",
    "    all_epochs = []\n",
    "    all_penalties = []\n",
    "\n",
    "    for i in range(1, 100001):\n",
    "        state = env.reset()\n",
    "\n",
    "        epochs, penalties, reward, = 0, 0, 0\n",
    "        done = False\n",
    "\n",
    "        while not done:\n",
    "            if np.random.uniform(0, 1) < epsilon:\n",
    "                action = env.action_space.sample() # Explore action space\n",
    "            else:\n",
    "                action = np.argmax(q_table[state]) # Exploit learned values\n",
    "\n",
    "            next_state, reward, done, info = env.step(action) \n",
    "\n",
    "#           Q-Learning\n",
    "            old_value = q_table[state, action]\n",
    "            next_max = np.max(q_table[next_state])\n",
    "\n",
    "            new_value = (1 - alpha) * old_value + alpha * (reward + gamma * next_max)\n",
    "            q_table[state, action] = new_value\n",
    "\n",
    "            if reward == -10:\n",
    "                penalties += 1\n",
    "\n",
    "            state = next_state\n",
    "            epochs += 1\n",
    "\n",
    "        if i % 100 == 0:\n",
    "            clear_output(wait=True)\n",
    "            print(f\"Episode: {i}\")\n",
    "\n",
    "    print(\"Training finished.\\n\")\n",
    "    return q_table"
   ],
   "metadata": {
    "execution": {
     "iopub.status.busy": "2022-06-28T13:16:04.224294Z",
     "iopub.execute_input": "2022-06-28T13:16:04.224700Z",
     "iopub.status.idle": "2022-06-28T13:16:04.236113Z",
     "shell.execute_reply.started": "2022-06-28T13:16:04.224665Z",
     "shell.execute_reply": "2022-06-28T13:16:04.235370Z"
    },
    "trusted": true
   },
   "execution_count": 5,
   "outputs": []
  },
  {
   "cell_type": "code",
   "source": [
    "# Run agent trained using Reinforcemnt learning\n",
    "def run_agent(state, q_table):\n",
    "    epochs = 0\n",
    "    penalties, reward = 0, 0\n",
    "    env.s = state\n",
    "    \n",
    "    frames = [] # for animation\n",
    "    # initial state\n",
    "    frames.append({\n",
    "        'frame': env.render(mode='ansi'),\n",
    "        'state': state,\n",
    "        'action': '--',\n",
    "        'reward': '--'\n",
    "        }\n",
    "    )\n",
    "    done = False\n",
    "\n",
    "    while not done:\n",
    "        # Next action is choosen from q_table\n",
    "        action = np.argmax(q_table[state])\n",
    "        state, reward, done, info = env.step(action)\n",
    "        if reward == -10:\n",
    "            penalties += 1\n",
    "        # Put each rendered frame into dict for animation\n",
    "        frames.append({\n",
    "            'frame': env.render(mode='ansi'),\n",
    "            'state': state,\n",
    "            'action': action,\n",
    "            'reward': reward\n",
    "            }\n",
    "        )\n",
    "        epochs += 1\n",
    "    return frames, epochs, penalties"
   ],
   "metadata": {
    "execution": {
     "iopub.status.busy": "2022-06-28T13:16:10.574716Z",
     "iopub.execute_input": "2022-06-28T13:16:10.575126Z",
     "iopub.status.idle": "2022-06-28T13:16:10.584851Z",
     "shell.execute_reply.started": "2022-06-28T13:16:10.575095Z",
     "shell.execute_reply": "2022-06-28T13:16:10.583891Z"
    },
    "trusted": true
   },
   "execution_count": 19,
   "outputs": []
  },
  {
   "cell_type": "markdown",
   "source": "# Execution",
   "metadata": {}
  },
  {
   "cell_type": "code",
   "source": "# Loading state\n# (taxi row, taxi column, passenger index, destination index)\n# Blue letter indicates pickup location\n# Pink Letter indicates dropoff location\nstate = env.encode(4, 4, passenger['Y'], dest['R']) \nenv.s = state\n\n# Uncomment next line to load random state\n# env.reset()\nstate = env.s\nprint(\"State:\", state)\nenv.render()",
   "metadata": {
    "execution": {
     "iopub.status.busy": "2022-06-28T13:16:28.883742Z",
     "iopub.execute_input": "2022-06-28T13:16:28.884156Z",
     "iopub.status.idle": "2022-06-28T13:16:28.890764Z",
     "shell.execute_reply.started": "2022-06-28T13:16:28.884124Z",
     "shell.execute_reply": "2022-06-28T13:16:28.889743Z"
    },
    "trusted": true
   },
   "execution_count": 20,
   "outputs": [
    {
     "name": "stdout",
     "output_type": "stream",
     "text": [
      "State: 488\n",
      "+---------+\n",
      "|R: | : :\u001B[35mG\u001B[0m|\n",
      "| : | : : |\n",
      "| : : : : |\n",
      "| | : | : |\n",
      "|\u001B[34;1mY\u001B[0m| : |\u001B[43mB\u001B[0m: |\n",
      "+---------+\n",
      "\n"
     ]
    }
   ]
  },
  {
   "cell_type": "markdown",
   "source": "## Brute Force",
   "metadata": {}
  },
  {
   "cell_type": "code",
   "source": "frames, epochs, penalties = brute_force(state)\nprint(\"Timesteps taken: {}\".format(epochs))\nprint(\"Penalties incurred: {}\".format(penalties))",
   "metadata": {
    "execution": {
     "iopub.status.busy": "2022-06-28T13:16:39.034597Z",
     "iopub.execute_input": "2022-06-28T13:16:39.035014Z",
     "iopub.status.idle": "2022-06-28T13:16:39.055565Z",
     "shell.execute_reply.started": "2022-06-28T13:16:39.034980Z",
     "shell.execute_reply": "2022-06-28T13:16:39.054091Z"
    },
    "trusted": true
   },
   "execution_count": 21,
   "outputs": [
    {
     "name": "stdout",
     "output_type": "stream",
     "text": [
      "Timesteps taken: 200\n",
      "Penalties incurred: 66\n"
     ]
    }
   ]
  },
  {
   "cell_type": "code",
   "source": "# Visualise agent\nprint_frames(frames, time_btw_frames=0.03)",
   "metadata": {
    "execution": {
     "iopub.status.busy": "2022-06-28T13:17:20.943985Z",
     "iopub.execute_input": "2022-06-28T13:17:20.944419Z",
     "iopub.status.idle": "2022-06-28T13:17:27.238301Z",
     "shell.execute_reply.started": "2022-06-28T13:17:20.944382Z",
     "shell.execute_reply": "2022-06-28T13:17:27.237278Z"
    },
    "trusted": true
   },
   "execution_count": 22,
   "outputs": [
    {
     "name": "stdout",
     "output_type": "stream",
     "text": [
      "+---------+\n",
      "|R: | : :\u001B[35mG\u001B[0m|\n",
      "| : | : : |\n",
      "| : : : : |\n",
      "| | : | :\u001B[43m \u001B[0m|\n",
      "|\u001B[34;1mY\u001B[0m| : |B: |\n",
      "+---------+\n",
      "  (East)\n",
      "\n",
      "Timestep: 200\n",
      "State: 389\n",
      "Action: 2\n",
      "Reward: -1\n"
     ]
    }
   ]
  },
  {
   "cell_type": "markdown",
   "source": "## RL ",
   "metadata": {}
  },
  {
   "cell_type": "code",
   "source": "%%time\n# Train Agent on 100000 episodes\nq_table = train_agent()",
   "metadata": {
    "execution": {
     "iopub.status.busy": "2022-06-28T13:18:23.964945Z",
     "iopub.execute_input": "2022-06-28T13:18:23.965373Z",
     "iopub.status.idle": "2022-06-28T13:19:46.578667Z",
     "shell.execute_reply.started": "2022-06-28T13:18:23.965341Z",
     "shell.execute_reply": "2022-06-28T13:19:46.577753Z"
    },
    "trusted": true
   },
   "execution_count": 23,
   "outputs": [
    {
     "name": "stdout",
     "output_type": "stream",
     "text": [
      "Episode: 100000\n",
      "Training finished.\n",
      "\n",
      "Wall time: 1min 2s\n"
     ]
    }
   ]
  },
  {
   "cell_type": "code",
   "source": "# Printing the best action for our initial state\nenv.s = state\nenv.render()\nprint(\"Best action: {}\".format(actions[np.argmax(q_table[state])]))",
   "metadata": {
    "execution": {
     "iopub.status.busy": "2022-06-28T13:19:46.580855Z",
     "iopub.execute_input": "2022-06-28T13:19:46.581377Z",
     "iopub.status.idle": "2022-06-28T13:19:46.587866Z",
     "shell.execute_reply.started": "2022-06-28T13:19:46.581329Z",
     "shell.execute_reply": "2022-06-28T13:19:46.586886Z"
    },
    "trusted": true
   },
   "execution_count": 24,
   "outputs": [
    {
     "name": "stdout",
     "output_type": "stream",
     "text": [
      "+---------+\n",
      "|R: | : :G|\n",
      "| : | : : |\n",
      "| : : : : |\n",
      "| | : | : |\n",
      "|\u001B[35m\u001B[34;1m\u001B[43mY\u001B[0m\u001B[0m\u001B[0m| : |B: |\n",
      "+---------+\n",
      "  (Dropoff)\n",
      "Best action: North\n"
     ]
    }
   ]
  },
  {
   "cell_type": "code",
   "source": "# Running agent trained using Reinforcement Learning\nframes, epochs, penalties = run_agent(state, q_table)\nprint(\"Timesteps taken: {}\".format(epochs))\nprint(\"Penalties incurred: {}\".format(penalties))",
   "metadata": {
    "execution": {
     "iopub.status.busy": "2022-06-28T13:19:46.589083Z",
     "iopub.execute_input": "2022-06-28T13:19:46.589444Z",
     "iopub.status.idle": "2022-06-28T13:19:46.620101Z",
     "shell.execute_reply.started": "2022-06-28T13:19:46.589412Z",
     "shell.execute_reply": "2022-06-28T13:19:46.619310Z"
    },
    "trusted": true
   },
   "execution_count": 25,
   "outputs": [
    {
     "name": "stdout",
     "output_type": "stream",
     "text": [
      "Timesteps taken: 185\n",
      "Penalties incurred: 0\n"
     ]
    }
   ]
  },
  {
   "cell_type": "code",
   "source": "print_frames(frames,time_btw_frames=0.5)",
   "metadata": {
    "execution": {
     "iopub.status.busy": "2022-06-28T13:19:46.621634Z",
     "iopub.execute_input": "2022-06-28T13:19:46.622483Z",
     "iopub.status.idle": "2022-06-28T13:21:19.427984Z",
     "shell.execute_reply.started": "2022-06-28T13:19:46.622443Z",
     "shell.execute_reply": "2022-06-28T13:21:19.427192Z"
    },
    "trusted": true
   },
   "execution_count": 26,
   "outputs": [
    {
     "name": "stdout",
     "output_type": "stream",
     "text": [
      "+---------+\n",
      "|R: | : :G|\n",
      "| : | : : |\n",
      "| : : : : |\n",
      "| | : | : |\n",
      "|\u001B[35m\u001B[34;1m\u001B[43mY\u001B[0m\u001B[0m\u001B[0m| : |B: |\n",
      "+---------+\n",
      "  (South)\n",
      "\n",
      "Timestep: 185\n",
      "State: 410\n",
      "Action: 0\n",
      "Reward: -1\n"
     ]
    }
   ]
  },
  {
   "cell_type": "markdown",
   "source": "# Comparison",
   "metadata": {}
  },
  {
   "cell_type": "code",
   "source": "%%time\nepisodes = 100\nbrute_steps = 0\nbrute_penalties = 0\nreinf_steps = 0\nreinf_penalties = 0\n\nfor _ in range(episodes):\n    env.reset()\n    state = env.s\n    \n    frames, steps, penalties = brute_force(state)\n    brute_steps += steps\n    brute_penalties += penalties\n    \n    frames, steps, penalties = run_agent(state, q_table)\n    reinf_steps += steps\n    reinf_penalties += penalties\n    \nprint('Result after {} episodes'.format(episodes))\nprint('Average Brute-Force timestamps per episode           : {}'.format(brute_steps/episodes))\nprint('Average Brute-Force penalties per episode            : {}'.format(brute_penalties/episodes))\nprint('Average Reinforcement Learning timestamps per episode: {}'.format(reinf_steps/episodes))\nprint('Average Reinforcement Learning penalties per episode : {}'.format(reinf_penalties/episodes))",
   "metadata": {
    "execution": {
     "iopub.status.busy": "2022-06-28T13:21:19.428951Z",
     "iopub.execute_input": "2022-06-28T13:21:19.429291Z",
     "iopub.status.idle": "2022-06-28T13:21:20.740154Z",
     "shell.execute_reply.started": "2022-06-28T13:21:19.429261Z",
     "shell.execute_reply": "2022-06-28T13:21:20.739050Z"
    },
    "trusted": true
   },
   "execution_count": 26,
   "outputs": [
    {
     "name": "stdout",
     "text": "Result after 100 episodes\nAverage Brute-Force timestamps per episode           : 195.07\nAverage Brute-Force penalties per episode            : 62.65\nAverage Reinforcement Learning timestamps per episode: 5.85\nAverage Reinforcement Learning penalties per episode : 0.0\nCPU times: user 1.34 s, sys: 31.6 ms, total: 1.37 s\nWall time: 1.3 s\n",
     "output_type": "stream"
    }
   ]
  },
  {
   "cell_type": "code",
   "source": "",
   "metadata": {},
   "execution_count": null,
   "outputs": []
  }
 ]
}
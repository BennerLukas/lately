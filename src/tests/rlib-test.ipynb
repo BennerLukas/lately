{
 "cells": [
  {
   "cell_type": "code",
   "execution_count": 4,
   "metadata": {
    "collapsed": true
   },
   "outputs": [
    {
     "ename": "AttributeError",
     "evalue": "partially initialized module 'ray' has no attribute '_private' (most likely due to a circular import)",
     "output_type": "error",
     "traceback": [
      "\u001B[1;31m---------------------------------------------------------------------------\u001B[0m",
      "\u001B[1;31mAttributeError\u001B[0m                            Traceback (most recent call last)",
      "Input \u001B[1;32mIn [4]\u001B[0m, in \u001B[0;36m<cell line: 1>\u001B[1;34m()\u001B[0m\n\u001B[1;32m----> 1\u001B[0m \u001B[38;5;28;01mimport\u001B[39;00m \u001B[38;5;21;01mray\u001B[39;00m\n\u001B[0;32m      2\u001B[0m \u001B[38;5;28;01mfrom\u001B[39;00m \u001B[38;5;21;01mray\u001B[39;00m\u001B[38;5;21;01m.\u001B[39;00m\u001B[38;5;21;01mrllib\u001B[39;00m \u001B[38;5;28;01mimport\u001B[39;00m agents\n",
      "File \u001B[1;32mc:\\projects\\on-time\\venv\\on-time\\lib\\site-packages\\ray\\__init__.py:100\u001B[0m, in \u001B[0;36m<module>\u001B[1;34m\u001B[0m\n\u001B[0;32m     95\u001B[0m         \u001B[38;5;28;01mfrom\u001B[39;00m \u001B[38;5;21;01mctypes\u001B[39;00m \u001B[38;5;28;01mimport\u001B[39;00m CDLL\n\u001B[0;32m     97\u001B[0m         CDLL(so_path, ctypes\u001B[38;5;241m.\u001B[39mRTLD_GLOBAL)\n\u001B[1;32m--> 100\u001B[0m \u001B[43m_configure_system\u001B[49m\u001B[43m(\u001B[49m\u001B[43m)\u001B[49m\n\u001B[0;32m    101\u001B[0m \u001B[38;5;66;03m# Delete configuration function.\u001B[39;00m\n\u001B[0;32m    102\u001B[0m \u001B[38;5;28;01mdel\u001B[39;00m _configure_system\n",
      "File \u001B[1;32mc:\\projects\\on-time\\venv\\on-time\\lib\\site-packages\\ray\\__init__.py:77\u001B[0m, in \u001B[0;36m_configure_system\u001B[1;34m()\u001B[0m\n\u001B[0;32m     74\u001B[0m \u001B[38;5;28;01mif\u001B[39;00m sys\u001B[38;5;241m.\u001B[39mplatform \u001B[38;5;241m==\u001B[39m \u001B[38;5;124m\"\u001B[39m\u001B[38;5;124mwin32\u001B[39m\u001B[38;5;124m\"\u001B[39m:\n\u001B[0;32m     75\u001B[0m     \u001B[38;5;28;01mimport\u001B[39;00m \u001B[38;5;21;01mray\u001B[39;00m\u001B[38;5;21;01m.\u001B[39;00m\u001B[38;5;21;01m_private\u001B[39;00m\u001B[38;5;21;01m.\u001B[39;00m\u001B[38;5;21;01mcompat\u001B[39;00m  \u001B[38;5;66;03m# noqa: E402\u001B[39;00m\n\u001B[1;32m---> 77\u001B[0m     \u001B[43mray\u001B[49m\u001B[38;5;241;43m.\u001B[39;49m\u001B[43m_private\u001B[49m\u001B[38;5;241m.\u001B[39mcompat\u001B[38;5;241m.\u001B[39mpatch_redis_empty_recv()\n\u001B[0;32m     79\u001B[0m \u001B[38;5;28;01mif\u001B[39;00m (\n\u001B[0;32m     80\u001B[0m     platform\u001B[38;5;241m.\u001B[39msystem() \u001B[38;5;241m==\u001B[39m \u001B[38;5;124m\"\u001B[39m\u001B[38;5;124mLinux\u001B[39m\u001B[38;5;124m\"\u001B[39m\n\u001B[0;32m     81\u001B[0m     \u001B[38;5;129;01mand\u001B[39;00m \u001B[38;5;124m\"\u001B[39m\u001B[38;5;124mMicrosoft\u001B[39m\u001B[38;5;124m\"\u001B[39m\u001B[38;5;241m.\u001B[39mlower() \u001B[38;5;129;01min\u001B[39;00m platform\u001B[38;5;241m.\u001B[39mrelease()\u001B[38;5;241m.\u001B[39mlower()\n\u001B[0;32m     82\u001B[0m ):\n\u001B[0;32m     83\u001B[0m     \u001B[38;5;28;01mimport\u001B[39;00m \u001B[38;5;21;01mray\u001B[39;00m\u001B[38;5;21;01m.\u001B[39;00m\u001B[38;5;21;01m_private\u001B[39;00m\u001B[38;5;21;01m.\u001B[39;00m\u001B[38;5;21;01mcompat\u001B[39;00m  \u001B[38;5;66;03m# noqa: E402\u001B[39;00m\n",
      "\u001B[1;31mAttributeError\u001B[0m: partially initialized module 'ray' has no attribute '_private' (most likely due to a circular import)"
     ]
    }
   ],
   "source": [
    "import ray\n",
    "from ray.rllib import agents"
   ]
  },
  {
   "cell_type": "code",
   "execution_count": null,
   "outputs": [],
   "source": [
    "ray.init()\n",
    "trainer = agents.a3c.A2CTrainer(env='CartPole-v0')"
   ],
   "metadata": {
    "collapsed": false,
    "pycharm": {
     "name": "#%%\n"
    }
   }
  }
 ],
 "metadata": {
  "kernelspec": {
   "display_name": "Python 3",
   "language": "python",
   "name": "python3"
  },
  "language_info": {
   "codemirror_mode": {
    "name": "ipython",
    "version": 2
   },
   "file_extension": ".py",
   "mimetype": "text/x-python",
   "name": "python",
   "nbconvert_exporter": "python",
   "pygments_lexer": "ipython2",
   "version": "2.7.6"
  }
 },
 "nbformat": 4,
 "nbformat_minor": 0
}